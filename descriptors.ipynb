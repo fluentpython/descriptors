{
 "cells": [
  {
   "cell_type": "markdown",
   "id": "3afedad0-8582-4382-9014-e03e4e2ad143",
   "metadata": {},
   "source": [
    "# Descriptors: secret weapon of frameworks\n",
    "\n",
    "A talk presented at [Python Cerrado / Plone Conference 2024](https://2024.ploneconf.org/en/schedule/talks/descriptors-secret-weapon-of-frameworks)"
   ]
  },
  {
   "cell_type": "markdown",
   "id": "4d10677c-ce2a-427d-926a-fe46e4ad920e",
   "metadata": {},
   "source": [
    "## Motivating example\n",
    "\n",
    "<img src=\"bulk_food_by_Dan_Bruell.jpg\" alt=\"Bulk food bins, by Dan Bruell\" width=\"600\"> \n",
    "\n",
    "### Class for an item in an order of bulk food\n",
    "\n",
    "Imagine an app for a store that sells organic food in bulk,\n",
    "where customers can order nuts, dried fruit, or cereals by weight.\n",
    "In that system, each order would hold a sequence of line items,\n",
    "and each line item could be represented by an instance of a\n",
    "class like this:"
   ]
  },
  {
   "cell_type": "code",
   "execution_count": 1,
   "id": "0b02dad5-89c9-4fa4-81a9-d938225c4d9e",
   "metadata": {},
   "outputs": [],
   "source": [
    "class LineItem:\n",
    "\n",
    "    def __init__(self, description, weight, price):\n",
    "        self.description = description\n",
    "        self.weight = weight\n",
    "        self.price = price\n",
    "\n",
    "    def subtotal(self):\n",
    "        return self.weight * self.price"
   ]
  },
  {
   "cell_type": "markdown",
   "id": "3a9b3d6f-16a8-4263-93e9-eed8f8d8d339",
   "metadata": {},
   "source": [
    "That's nice and simple:"
   ]
  },
  {
   "cell_type": "code",
   "execution_count": 2,
   "id": "4e628e11-8917-4a20-9d2c-d5e81e7d8acb",
   "metadata": {},
   "outputs": [
    {
     "data": {
      "text/plain": [
       "69.5"
      ]
     },
     "execution_count": 2,
     "metadata": {},
     "output_type": "execute_result"
    }
   ],
   "source": [
    "raisins = LineItem('Golden raisins', 10, 6.95)\n",
    "raisins.subtotal()"
   ]
  },
  {
   "cell_type": "markdown",
   "id": "fdb907b6-81fa-4463-a38f-3d38ca84e1ff",
   "metadata": {},
   "source": [
    "But there's a problem:"
   ]
  },
  {
   "cell_type": "code",
   "execution_count": 3,
   "id": "4f3f2688-273f-4985-80dc-bfcb47de5e51",
   "metadata": {},
   "outputs": [
    {
     "data": {
      "text/plain": [
       "-139.0"
      ]
     },
     "execution_count": 3,
     "metadata": {},
     "output_type": "execute_result"
    }
   ],
   "source": [
    "raisins.weight = -20\n",
    "raisins.subtotal()"
   ]
  },
  {
   "cell_type": "markdown",
   "id": "96f8e64a-8199-410f-832e-d58be98e5811",
   "metadata": {},
   "source": [
    "This is a toy example, but not as fanciful as you may think.\n",
    "Here is a story from the early days of Amazon.com:\n",
    "\n",
    ">  We found that customers could order a negative quantity of books! And we would\n",
    "  credit their credit card with the price and, I assume, wait around for them to ship the\n",
    "  books.<br>\n",
    "  — Jeff Bezos, founder and CEO of Amazon.com, interviewed by Wall Street Journal in “Birth of a Salesman” (October 15, 2011)"
   ]
  },
  {
   "cell_type": "markdown",
   "id": "8eb9970e-30df-42cb-8afc-20829dd9b8cd",
   "metadata": {},
   "source": [
    "### Type checkers won't save us"
   ]
  },
  {
   "cell_type": "code",
   "execution_count": 4,
   "id": "35746d01-e859-4837-8b83-4a7a6e0144b5",
   "metadata": {},
   "outputs": [],
   "source": [
    "from dataclasses import dataclass\n",
    "\n",
    "@dataclass\n",
    "class LineItem:\n",
    "    description: str\n",
    "    weight: float\n",
    "    price: float\n",
    "\n",
    "    def subtotal(self):\n",
    "        return self.weight * self.price"
   ]
  },
  {
   "cell_type": "markdown",
   "id": "d01ce17e-3f19-49ec-8b08-98571fbccb83",
   "metadata": {},
   "source": [
    "There is no way to specify that `weight` must be a `float` greater than zero.\n",
    "\n",
    "Only [dependend types](https://en.wikipedia.org/wiki/Dependent_type) could fix this,\n",
    "but that's a feature that exists only in obscure, academic functional languages like Agda and Idris."
   ]
  },
  {
   "cell_type": "markdown",
   "id": "f6915c39-fb3e-46d0-8bd0-0025adc4bf94",
   "metadata": {},
   "source": [
    "### Why not getters and setters?\n",
    "\n",
    "The traditional way of controlling attribute access in C++ or Java is to use _getters_ and _setters_: methods that get and set values for attributes that are declared private or protected in some way.\n",
    "\n",
    "But that is verbose, and produces what the famous Pythonista Alex Martelli calls \"goofy idioms\" like this:\n",
    "\n",
    "```python\n",
    "item.get_quantity(item.set_quantity() + 1)\n",
    "```\n",
    "\n",
    "Using public attributes, properties, or descriptors, the uglyness of getters and setters is hidden from the users of your class, and they can accomplish the same result writing this:\n",
    "\n",
    "```python\n",
    "item.quantity += 1\n",
    "```"
   ]
  },
  {
   "cell_type": "markdown",
   "id": "6bb176d5-a659-41db-8685-7e50ff892f09",
   "metadata": {},
   "source": [
    "### Properties to the rescue\n",
    "\n",
    "> The crucial importance of properties is that their existence makes it perfectly safe and\n",
    " indeed advisable for you to expose public data attributes as part of your class’s public\n",
    " interface. <br>\n",
    "  — Martelli, Ravenscroft, and Holden, “Why properties are important”1\n",
    "\n",
    "\n",
    "Properties enable the implementation of getters and setters without\n",
    "changing the public interface of a class that previously\n",
    "allowed reading and writing public attributes via `item.quantity` notation."
   ]
  },
  {
   "cell_type": "code",
   "execution_count": 5,
   "id": "7f6c8fe9-7882-4cf6-8ef0-c92c6e9dafa0",
   "metadata": {},
   "outputs": [],
   "source": [
    "class LineItem:\n",
    "\n",
    "    def __init__(self, description, weight, price):\n",
    "        self.description = description\n",
    "        self.weight = weight  # (1)\n",
    "        self.price = price\n",
    "\n",
    "    def subtotal(self):\n",
    "        return self.weight * self.price\n",
    "\n",
    "    @property  # (2)\n",
    "    def weight(self):  # (3)\n",
    "        return self.__weight  # (4)\n",
    "\n",
    "    @weight.setter  # (5)\n",
    "    def weight(self, value):\n",
    "        if value > 0:\n",
    "            self.__weight = value  # (6)\n",
    "        else:\n",
    "            raise ValueError('weight must be > 0')  # (7)\n",
    "            \n",
    "    @property\n",
    "    def price(self):\n",
    "        return self.__price\n",
    "\n",
    "    @price.setter  # (5)\n",
    "    def price(self, value):\n",
    "        if value > 0:\n",
    "            self.__price = value\n",
    "        else:\n",
    "            raise ValueError('price must be > 0')"
   ]
  },
  {
   "cell_type": "markdown",
   "id": "934c60b7-74df-44f6-8758-20137583c4b0",
   "metadata": {},
   "source": [
    "Uncomment to see a demonstration:"
   ]
  },
  {
   "cell_type": "code",
   "execution_count": 6,
   "id": "c2077ad0-f603-4f82-a14b-8eb7675f0897",
   "metadata": {},
   "outputs": [],
   "source": [
    "# raisins = LineItem('Golden raisins', -10, 6.95)"
   ]
  },
  {
   "cell_type": "markdown",
   "id": "b0cebfbc-8a63-40f2-a5c2-5ba6b82f42b4",
   "metadata": {},
   "source": [
    "## Descriptors to the rescue\n",
    "\n",
    "The previous example is fine, but there's a lot of repetition.\n",
    "A descriptor class allows reuse of attribute validation logic.\n",
    "\n",
    "By the way, `@property` itself is implemented as a descriptor class.\n",
    "\n",
    "### Quantity: a validation descriptor\n",
    "\n",
    "We'll implement a descriptor class named `Quantity` that enforces the rule that a numeric attribute must be greater than zero.\n",
    "\n",
    "Here's how we want to write `LineItem` with quantity:\n",
    "\n",
    "```python\n",
    "class LineItem:\n",
    "    weight = Quantity()\n",
    "    price = Quantity()\n",
    "\n",
    "    def __init__(self, description, weight, price):\n",
    "        self.description = description\n",
    "        self.weight = weight\n",
    "        self.price = price\n",
    "\n",
    "    def subtotal(self):\n",
    "        return self.weight * self.price\n",
    "```"
   ]
  },
  {
   "cell_type": "markdown",
   "id": "8ed9d488-d512-4675-9020-3acd8da580f8",
   "metadata": {},
   "source": [
    "### A descriptor class and a managed class\n",
    "\n",
    "Before looking a the implementation of `Quantity`, consider just these lines of `LineItem`:\n",
    "\n",
    "```python\n",
    "\n",
    "class LineItem:\n",
    "    weight = Quantity()\n",
    "    price = Quantity()\n",
    "```\n",
    "\n",
    "What is happening here?\n",
    "\n",
    "Both `weight` and `price` are attributes of the `LineItem` **class**.\n",
    "\n",
    "Also, they are two separate instances of `Quantity`.\n",
    "\n",
    "Here is a UML class diagram for that:\n",
    "\n",
    "<img src=\"flpy_2301.png\" alt=\"UML class diagram showing relationship between `LineItem` and `Quantity`\" width=\"800\"> \n"
   ]
  },
  {
   "cell_type": "markdown",
   "id": "6c427a3e-2938-4476-a797-1b3c5fb2b95e",
   "metadata": {},
   "source": [
    "Metaprogramming may involve unusual relationships between classes and instances that may be hard to read in UML.\n",
    "\n",
    "So, I invented the Mills & Gizmos Notation to enhance UML diagrams. Here is a sample of MGN:\n",
    "\n",
    "<img src=\"flpy_2303.png\" alt=\"Classes and instances drawn as mills and gizmos.\" width=\"800\"> \n"
   ]
  },
  {
   "cell_type": "markdown",
   "id": "318d22a8-5133-4b41-91fd-4545c938fe22",
   "metadata": {},
   "source": [
    "Here is that same UML diagram annotated with Mills & Gizmos:\n",
    "\n",
    "<img src=\"flpy_2302.png\" alt=\"UML class diagram showing relationship between `LineItem` and `Quantity` with mills and gizmos\" width=\"800\"> \n"
   ]
  },
  {
   "cell_type": "markdown",
   "id": "26f0f33d-50db-4ae1-a511-c5688b3eeadb",
   "metadata": {},
   "source": [
    "### Implementing Quantity, take #1\n",
    "\n",
    "Descriptor classes are implemented in frameworks like Django or SQLAlchemy, not application code.\n",
    "\n",
    "For example, this could be part of a `validators.py` module in a framework:"
   ]
  },
  {
   "cell_type": "code",
   "execution_count": 7,
   "id": "c0e9851d-d8c7-47bb-b991-f98c703f4dc3",
   "metadata": {},
   "outputs": [],
   "source": [
    "# part of a validators.py module\n",
    "\n",
    "class Quantity:  # (1)\n",
    "\n",
    "    def __init__(self, storage_name):  # (2)\n",
    "        self.storage_name = storage_name\n",
    "\n",
    "    def __set__(self, instance, value):   # (3)\n",
    "        if value > 0:\n",
    "            instance.__dict__[self.storage_name] = value\n",
    "        else:\n",
    "            msg = f'{self.storage_name} must be > 0'\n",
    "            raise ValueError(msg)"
   ]
  },
  {
   "cell_type": "markdown",
   "id": "6b64e2ab-0a67-4f70-8484-882726a262b3",
   "metadata": {},
   "source": [
    "**(1)** descriptor is a protocol-based feature: there's no need to subclass anything, just implement one of the relevant special methods.\n",
    "\n",
    "**(2)** The `storage_name` is the name of the attribute in each managed class instance that will hold the value of the attribute controlled by the descriptor.\n",
    "\n",
    "**(2)** Implementing `__set__` makes a class behave as a descriptor. `self` is the descriptor instance, `instance` is the managed instance, and `value` is the value being set.\n",
    "\n",
    "**(4)** If we have a valid `value`, then we save it in the `instance.__dict__`. We can't use `settattr(instance, self.storage_name, value`) because that would trigger the descriptor `__set__` again, leading to uncontrolled recursion.\n",
    "\n",
    "**(5)** We build a user friendly message explaining how to fix the problem, and raise `ValueError`.\n"
   ]
  },
  {
   "cell_type": "markdown",
   "id": "dacf5fd6-6cf0-49ea-8fca-a11a1a3253c8",
   "metadata": {},
   "source": [
    "Here is the application code that would use that:"
   ]
  },
  {
   "cell_type": "code",
   "execution_count": 8,
   "id": "3e37bea4-932d-45de-9425-267867e65378",
   "metadata": {},
   "outputs": [],
   "source": [
    "# from validators import Quantity\n",
    "\n",
    "class LineItem:\n",
    "    weight = Quantity()\n",
    "    price = Quantity()\n",
    "\n",
    "    def __init__(self, description, weight, price):\n",
    "        self.description = description\n",
    "        self.weight = weight\n",
    "        self.price = price\n",
    "\n",
    "    def subtotal(self):\n",
    "        return self.weight * self.price"
   ]
  },
  {
   "cell_type": "markdown",
   "id": "7980a513-e8cc-4f74-956b-9bae5180e9ed",
   "metadata": {},
   "source": [
    "### Quantity take #2: automatic storage_name"
   ]
  },
  {
   "cell_type": "code",
   "execution_count": 7,
   "id": "38f83c47-e044-49fc-bf93-08e18dad2e18",
   "metadata": {},
   "outputs": [],
   "source": [
    "# part of a validators.py module\n",
    "\n",
    "class Quantity:\n",
    "\n",
    "    def __set_name__(self, owner, name):  # (1)\n",
    "        self.storage_name = name          # (2)\n",
    "\n",
    "    def __set__(self, instance, value):   # (3)\n",
    "        if value > 0:\n",
    "            instance.__dict__[self.storage_name] = value\n",
    "        else:\n",
    "            msg = f'{self.storage_name} must be > 0'\n",
    "            raise ValueError(msg)"
   ]
  },
  {
   "cell_type": "markdown",
   "id": "b9c6636a-9125-4bb0-9724-18dc0f0266cd",
   "metadata": {},
   "source": [
    "Uncomment to see a test that will generate a validation error due to a negative `weight`:"
   ]
  },
  {
   "cell_type": "code",
   "execution_count": 10,
   "id": "ab43a3f4-b7f8-4cc2-aa4c-92e5031a3446",
   "metadata": {},
   "outputs": [],
   "source": [
    "# raisins = LineItem('Golden raisins', -10, 6.95)"
   ]
  },
  {
   "cell_type": "markdown",
   "id": "d1fe86b7-1f51-4902-83b5-36068e58698e",
   "metadata": {},
   "source": [
    "### Quantity, line by line"
   ]
  },
  {
   "cell_type": "code",
   "execution_count": 7,
   "id": "e3cc5f54-acdc-4723-a6cc-79d98f908e72",
   "metadata": {},
   "outputs": [],
   "source": [
    "# part of a validators.py module\n",
    "\n",
    "class Quantity:\n",
    "\n",
    "    def __set_name__(self, owner, name):  # (1)\n",
    "        self.storage_name = name          # (2)\n",
    "\n",
    "    def __set__(self, instance, value):   # (3)\n",
    "        if value > 0:\n",
    "            instance.__dict__[self.storage_name] = value  # (4)\n",
    "        else:\n",
    "            msg = f'{self.storage_name} must be > 0'  # (5)\n",
    "            raise ValueError(msg)"
   ]
  },
  {
   "cell_type": "markdown",
   "id": "ceff5110-9b0a-48d3-91cd-8a08a9b36414",
   "metadata": {},
   "source": [
    "**(1)** The `__set_name__` special method was introduced in Python 3.6. It's called by the `type` metaclass, the factory of all Python classes, when a descriptor is assigned to a class attribute. `self` is the descriptor instance, owner is the managed class (where the descriptor is instantiated as a class attribute) and `name` is the name of the managed class attribute to which the descriptor is assigned, for example `\"weight\"` or `\"price\"` in the `LineItem` example.\n",
    "\n",
    "**(2)** The `storage_name` is the name of the attribute in each managed class instance that will hold the value of the attribute managed by the descriptor.\n",
    "\n",
    "**(3)** Implementing `__set__` and/or `__get__` is what makes a class behave as a descriptor; `self` is the descriptor instance, `instance` is the managed instance, and `value` is the value being set.\n",
    "\n",
    "**(4)** If we have a valid `value`, then we save it in the `instance.__dict__`. We can't use `settattr(instance, self.storage_name, value`) because that would trigger the descriptor `__set__` again, leading to uncontrolled recursion.\n",
    "\n",
    "**(5)** We build a user friendly message explaining how to fix the problem, and raise `ValueError`."
   ]
  },
  {
   "cell_type": "code",
   "execution_count": null,
   "id": "7220229b-952d-4c27-ab02-6c11f0a47832",
   "metadata": {},
   "outputs": [],
   "source": []
  }
 ],
 "metadata": {
  "kernelspec": {
   "display_name": "Python 3 (ipykernel)",
   "language": "python",
   "name": "python3"
  },
  "language_info": {
   "codemirror_mode": {
    "name": "ipython",
    "version": 3
   },
   "file_extension": ".py",
   "mimetype": "text/x-python",
   "name": "python",
   "nbconvert_exporter": "python",
   "pygments_lexer": "ipython3",
   "version": "3.12.2"
  }
 },
 "nbformat": 4,
 "nbformat_minor": 5
}
