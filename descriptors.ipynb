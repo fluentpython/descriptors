{
 "cells": [
  {
   "cell_type": "markdown",
   "id": "3afedad0-8582-4382-9014-e03e4e2ad143",
   "metadata": {},
   "source": [
    "# Descriptors: secret weapon of frameworks\n",
    "\n",
    "A talk presented at [Python Cerrado / Plone Conference 2024](https://2024.ploneconf.org/en/schedule/talks/descriptors-secret-weapon-of-frameworks)"
   ]
  },
  {
   "cell_type": "markdown",
   "id": "4d10677c-ce2a-427d-926a-fe46e4ad920e",
   "metadata": {},
   "source": [
    "## Motivating example\n",
    "\n",
    "<img src=\"bulk_food_by_Dan_Bruell.jpg\" alt=\"Bulk food bins, by Dan Bruell\" width=\"600\"> \n",
    "\n",
    "### Class for an item in an order of bulk food\n",
    "\n",
    "Imagine an app for a store that sells organic food in bulk,\n",
    "where customers can order nuts, dried fruit, or cereals by weight.\n",
    "In that system, each order would hold a sequence of line items,\n",
    "and each line item could be represented by an instance of a\n",
    "class like this:"
   ]
  },
  {
   "cell_type": "code",
   "execution_count": 1,
   "id": "0b02dad5-89c9-4fa4-81a9-d938225c4d9e",
   "metadata": {},
   "outputs": [],
   "source": [
    "class LineItem:\n",
    "\n",
    "    def __init__(self, description, weight, price):\n",
    "        self.description = description\n",
    "        self.weight = weight\n",
    "        self.price = price\n",
    "\n",
    "    def subtotal(self):\n",
    "        return self.weight * self.price"
   ]
  },
  {
   "cell_type": "markdown",
   "id": "3a9b3d6f-16a8-4263-93e9-eed8f8d8d339",
   "metadata": {},
   "source": [
    "That's nice and simple:"
   ]
  },
  {
   "cell_type": "code",
   "execution_count": 2,
   "id": "4e628e11-8917-4a20-9d2c-d5e81e7d8acb",
   "metadata": {},
   "outputs": [
    {
     "data": {
      "text/plain": [
       "69.5"
      ]
     },
     "execution_count": 2,
     "metadata": {},
     "output_type": "execute_result"
    }
   ],
   "source": [
    "raisins = LineItem('Golden raisins', 10, 6.95)\n",
    "raisins.subtotal()"
   ]
  },
  {
   "cell_type": "markdown",
   "id": "fdb907b6-81fa-4463-a38f-3d38ca84e1ff",
   "metadata": {},
   "source": [
    "But there's a problem:"
   ]
  },
  {
   "cell_type": "code",
   "execution_count": 3,
   "id": "4f3f2688-273f-4985-80dc-bfcb47de5e51",
   "metadata": {},
   "outputs": [
    {
     "data": {
      "text/plain": [
       "-139.0"
      ]
     },
     "execution_count": 3,
     "metadata": {},
     "output_type": "execute_result"
    }
   ],
   "source": [
    "raisins.weight = -20\n",
    "raisins.subtotal()"
   ]
  },
  {
   "cell_type": "markdown",
   "id": "96f8e64a-8199-410f-832e-d58be98e5811",
   "metadata": {},
   "source": [
    "This is a toy example, but not as fanciful as you may think.\n",
    "Here is a story from the early days of Amazon.com:\n",
    "\n",
    ">  We found that customers could order a negative quantity of books! And we would\n",
    "  credit their credit card with the price and, I assume, wait around for them to ship the\n",
    "  books.<br>\n",
    "  — Jeff Bezos, founder and CEO of Amazon.com, interviewed by Wall Street Journal in “Birth of a Salesman” (October 15, 2011)"
   ]
  },
  {
   "cell_type": "markdown",
   "id": "8eb9970e-30df-42cb-8afc-20829dd9b8cd",
   "metadata": {},
   "source": [
    "### Type hints won't save us"
   ]
  },
  {
   "cell_type": "code",
   "execution_count": 12,
   "id": "35746d01-e859-4837-8b83-4a7a6e0144b5",
   "metadata": {},
   "outputs": [],
   "source": [
    "from dataclasses import dataclass\n",
    "\n",
    "@dataclass\n",
    "class LineItem:\n",
    "    description: str\n",
    "    weight: float\n",
    "    price: float\n",
    "\n",
    "    def subtotal(self):\n",
    "        return self.weight * self.price"
   ]
  },
  {
   "cell_type": "markdown",
   "id": "d01ce17e-3f19-49ec-8b08-98571fbccb83",
   "metadata": {},
   "source": [
    "There is no way to specify that `weight` must be a `float` greater than zero.\n",
    "\n",
    "Only [dependend types](https://en.wikipedia.org/wiki/Dependent_type) could fix this,\n",
    "but that's a feature that exists only in obscure, academic functional languages like Agda and Idris."
   ]
  },
  {
   "cell_type": "markdown",
   "id": "6bb176d5-a659-41db-8685-7e50ff892f09",
   "metadata": {},
   "source": [
    "### Properties work but are verbose\n",
    "\n",
    "Properties enable the implementation of getters and setters without\n",
    "changing the public interface of a class that previously\n",
    "allowed reading and writing public attributes via `objec.attribute` notation."
   ]
  },
  {
   "cell_type": "code",
   "execution_count": 9,
   "id": "7f6c8fe9-7882-4cf6-8ef0-c92c6e9dafa0",
   "metadata": {},
   "outputs": [],
   "source": [
    "class LineItem:\n",
    "\n",
    "    def __init__(self, description, weight, price):\n",
    "        self.description = description\n",
    "        self.weight = weight  # (1)\n",
    "        self.price = price\n",
    "\n",
    "    def subtotal(self):\n",
    "        return self.weight * self.price\n",
    "\n",
    "    @property  # (2)\n",
    "    def weight(self):  # (3)\n",
    "        return self.__weight  # (4)\n",
    "\n",
    "    @weight.setter  # (5)\n",
    "    def weight(self, value):\n",
    "        if value > 0:\n",
    "            self.__weight = value  # (6)\n",
    "        else:\n",
    "            raise ValueError('weight must be > 0')  # (7)\n",
    "            \n",
    "    @property\n",
    "    def price(self):\n",
    "        return self.__price\n",
    "\n",
    "    @price.setter  # (5)\n",
    "    def price(self, value):\n",
    "        if value > 0:\n",
    "            self.__price = value\n",
    "        else:\n",
    "            raise ValueError('price must be > 0')"
   ]
  },
  {
   "cell_type": "markdown",
   "id": "934c60b7-74df-44f6-8758-20137583c4b0",
   "metadata": {},
   "source": [
    "Uncomment to see a demonstration:"
   ]
  },
  {
   "cell_type": "code",
   "execution_count": 11,
   "id": "c2077ad0-f603-4f82-a14b-8eb7675f0897",
   "metadata": {},
   "outputs": [],
   "source": [
    "# raisins = LineItem('Golden raisins', -10, 6.95)"
   ]
  },
  {
   "cell_type": "code",
   "execution_count": null,
   "id": "432c3f74-2c5f-442f-a9ea-e71b8b742885",
   "metadata": {},
   "outputs": [],
   "source": []
  }
 ],
 "metadata": {
  "kernelspec": {
   "display_name": "Python 3 (ipykernel)",
   "language": "python",
   "name": "python3"
  },
  "language_info": {
   "codemirror_mode": {
    "name": "ipython",
    "version": 3
   },
   "file_extension": ".py",
   "mimetype": "text/x-python",
   "name": "python",
   "nbconvert_exporter": "python",
   "pygments_lexer": "ipython3",
   "version": "3.12.2"
  }
 },
 "nbformat": 4,
 "nbformat_minor": 5
}
